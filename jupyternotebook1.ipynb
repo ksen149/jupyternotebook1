{
 "cells": [
  {
   "cell_type": "markdown",
   "id": "60415815",
   "metadata": {},
   "source": [
    "jupyternotebook"
   ]
  },
  {
   "cell_type": "markdown",
   "id": "9b557b03",
   "metadata": {},
   "source": [
    "This is the introduction to jupyter notebook"
   ]
  },
  {
   "cell_type": "markdown",
   "id": "60648a58",
   "metadata": {},
   "source": [
    "Exercise 4 - Create a markdown cell to list data science languages. (3 pts)\n",
    "Java\n",
    "Julia\n",
    "Javascript\n",
    "Python\n",
    "R\n",
    "Scala"
   ]
  },
  {
   "cell_type": "markdown",
   "id": "82f167c9",
   "metadata": {},
   "source": [
    "Exercise 5 - Create a markdown cell to list data science libraries. (3 pts)\n",
    "Keras\n",
    "Matplotlib \n",
    "NumPy\n",
    "Pandas\n",
    "PyTorch\n",
    "SciKit-Learn\n",
    "SciPy \n",
    "TensorFlow"
   ]
  },
  {
   "cell_type": "markdown",
   "id": "424f88fd",
   "metadata": {},
   "source": [
    "Exercise 6 - Create a markdown cell with a table of Data Science tools. (3 pts)\n",
    "Apache Spark\n",
    "Excel\n",
    "ggplot2\n",
    "Jupyter\n",
    "Matlab\n",
    "Matplotlib\n",
    "Tableau\n",
    "Tensorflow"
   ]
  },
  {
   "cell_type": "markdown",
   "id": "7e11cdaa",
   "metadata": {},
   "source": [
    "Exercise 7 - Create a markdown cell introducing arithmetic expression examples. (1 pt)\n",
    "add = x + y \n",
    "sub = x - y \n",
    "pro = x * y \n",
    "div = x / y"
   ]
  },
  {
   "cell_type": "code",
   "execution_count": 1,
   "id": "2a2346d8",
   "metadata": {},
   "outputs": [
    {
     "name": "stdout",
     "output_type": "stream",
     "text": [
      "52\n",
      "480\n"
     ]
    }
   ],
   "source": [
    "# Exercise 8 - Create a code cell to multiply and add numbers. (2 pts)\n",
    "\n",
    "x = 40\n",
    "y = 12\n",
    "  \n",
    "add = x+y \n",
    "pro = x*y \n",
    "  \n",
    "print(add) \n",
    "print(pro) \n"
   ]
  },
  {
   "cell_type": "code",
   "execution_count": 8,
   "id": "e659029d",
   "metadata": {},
   "outputs": [
    {
     "name": "stdout",
     "output_type": "stream",
     "text": [
      "Enter time in minutes120\n",
      "Hours= 2\n",
      "Minutes= 0\n"
     ]
    }
   ],
   "source": [
    "# Exercise 9 - Create a code cell to convert minutes to hours. (2 pts)\n",
    "\n",
    "min=int(input(\"Enter time in minutes\"))\n",
    "h=min//60\n",
    "m=min%60\n",
    "print(\"Hours=\",h)\n",
    "print(\"Minutes=\",m)\n"
   ]
  },
  {
   "cell_type": "markdown",
   "id": "5bc266a6",
   "metadata": {},
   "source": [
    "Exercise 10 -Insert a markdown cell to list Objectives. (3 pts)\n",
    "Learning Objectives \n",
    "•\tDescribe R capabilities and RStudio environment.\n",
    "•\tUse the inbuilt R plot function.\n",
    "•\tExplain version control and describe the Git and GitHub environment.\n",
    "•\tDescribe the purpose of source repositories and explain how GitHub satisfies the needs of a source repository.\n",
    "•\tExplain how to sign up for a GitHub account and describe how to create a repository.\n",
    "•\tDemonstrate how to edit and upload files in GitHub.\n",
    "•\tExplain the purpose of branches and describe how to merge changes into branches\n"
   ]
  },
  {
   "cell_type": "markdown",
   "id": "01d5fcb8",
   "metadata": {},
   "source": [
    "Author Name is Kunal"
   ]
  },
  {
   "cell_type": "code",
   "execution_count": null,
   "id": "a2c056b4",
   "metadata": {},
   "outputs": [],
   "source": []
  }
 ],
 "metadata": {
  "kernelspec": {
   "display_name": "Python 3 (ipykernel)",
   "language": "python",
   "name": "python3"
  },
  "language_info": {
   "codemirror_mode": {
    "name": "ipython",
    "version": 3
   },
   "file_extension": ".py",
   "mimetype": "text/x-python",
   "name": "python",
   "nbconvert_exporter": "python",
   "pygments_lexer": "ipython3",
   "version": "3.11.5"
  }
 },
 "nbformat": 4,
 "nbformat_minor": 5
}
